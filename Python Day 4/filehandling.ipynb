{
 "cells": [
  {
   "cell_type": "code",
   "execution_count": 45,
   "id": "043b3339-b8e1-4b6a-90c8-f50688756133",
   "metadata": {},
   "outputs": [
    {
     "name": "stdout",
     "output_type": "stream",
     "text": [
      "My name is Darshan Junavane,\n",
      "My birthdate is 07/09/2003\n",
      "I love watching ipl & Movies\n",
      "I love playing GTA V on my laptop\n",
      "\n",
      "\n",
      "120\n",
      "True\n"
     ]
    }
   ],
   "source": [
    "file_path =\"myfile.txt\"\n",
    "my_file = open(file_path,'r')\n",
    "my_file\n",
    "my_file.close()\n",
    "with open (file_path,'r') as file:\n",
    "    file_content = file.read() #read as it is\n",
    "    print(file_content)\n",
    "    print(len(file_content))\n",
    "    file.close()\n",
    "    print(file.closed)\n",
    "    "
   ]
  },
  {
   "cell_type": "code",
   "execution_count": 35,
   "id": "485cdd55-8d68-4d4b-8934-6f06b0cac271",
   "metadata": {},
   "outputs": [
    {
     "name": "stdout",
     "output_type": "stream",
     "text": [
      "My name is Darshan Junavane,\n",
      "My birthdate is 07/09/2003\n",
      "I love watching ipl & Movies\n",
      "I love playing GTA V on my laptop\n",
      "\n",
      "\n"
     ]
    }
   ],
   "source": [
    " print(file_content)"
   ]
  },
  {
   "cell_type": "code",
   "execution_count": 137,
   "id": "a1c2e41a-77dd-4dd9-8acc-8fa0880ebb7b",
   "metadata": {},
   "outputs": [
    {
     "name": "stdout",
     "output_type": "stream",
     "text": [
      "['My name is Darshan Junavane,\\n', 'My birthdate is 07/09/2003\\n', 'I love watching ipl & Movies\\n', 'I love playing GTA V on my laptop\\n', '\\n']\n",
      "5\n",
      "True\n"
     ]
    }
   ],
   "source": [
    "file_path =\"myfile.txt\"\n",
    "my_file = open(file_path,'r')\n",
    "my_file\n",
    "my_file.close()\n",
    "with open (file_path,'r') as file:\n",
    "    file_content = file.readlines()\n",
    "    print(list(file_content))\n",
    "    print(len(file_content))\n",
    "    file.close()\n",
    "    print(file.closed)\n",
    "    "
   ]
  },
  {
   "cell_type": "code",
   "execution_count": 179,
   "id": "5e70f228-1cdb-4e01-b6ff-78e5c29616e3",
   "metadata": {},
   "outputs": [
    {
     "ename": "IndentationError",
     "evalue": "expected an indented block after 'with' statement on line 5 (2495457741.py, line 6)",
     "output_type": "error",
     "traceback": [
      "\u001b[1;36m  Cell \u001b[1;32mIn[179], line 6\u001b[1;36m\u001b[0m\n\u001b[1;33m    print(list(file_content))\u001b[0m\n\u001b[1;37m    ^\u001b[0m\n\u001b[1;31mIndentationError\u001b[0m\u001b[1;31m:\u001b[0m expected an indented block after 'with' statement on line 5\n"
     ]
    }
   ],
   "source": [
    "    file_path =\"myfile.txt\"\n",
    "my_file = open(file_path,'r')\n",
    "my_file\n",
    "my_file.close()\n",
    "with open (file_path,'r') as file:\n",
    "    print(list(file_content))\n",
    "    file_content = file.readlines() \n",
    "    print(\" 2nd line is :\",(file_content[1]))"
   ]
  },
  {
   "cell_type": "code",
   "execution_count": 195,
   "id": "7cf32042-a1a8-4fac-8d37-097d24ab5056",
   "metadata": {
    "scrolled": true
   },
   "outputs": [
    {
     "name": "stdout",
     "output_type": "stream",
     "text": [
      "['My name is Darshan Junavane,\\n', 'My birthdate is 07/09/2003\\n', 'I love watching ipl & Movies\\n', 'I love playing GTA V on my laptop\\n', '\\n']\n",
      "2nd line is : My birthdate is 07/09/2003\n",
      "\n",
      "Length of 2nd line is : 27\n"
     ]
    }
   ],
   "source": [
    "file_path =\"myfile.txt\"\n",
    "my_file = open(file_path,'r')\n",
    "my_file\n",
    "my_file.close()\n",
    "with open (file_path,'r') as file:\n",
    "    print(list(file_content))\n",
    "    file_content = file.readlines() \n",
    "    print(\"2nd line is :\",(file_content[1]))\n",
    "    print(\"Length of 2nd line is :\",len((file_content[1])))\n",
    "    \n",
    "    \n",
    "    \n",
    "    "
   ]
  },
  {
   "cell_type": "code",
   "execution_count": 207,
   "id": "15ae5e8c-9aae-4e54-9d36-49fcaf6be53a",
   "metadata": {},
   "outputs": [
    {
     "name": "stdout",
     "output_type": "stream",
     "text": [
      "['My name is Darshan Junavane,\\n', 'My birthdate is 07/09/2003\\n', 'I love watching ipl & Movies\\n', 'I love playing GTA V on my laptop\\n', '\\n']\n",
      "Length of all lines are : 5\n"
     ]
    }
   ],
   "source": [
    "file_path =\"myfile.txt\"\n",
    "my_file = open(file_path,'r')\n",
    "my_file\n",
    "my_file.close()\n",
    "with open (file_path,'r') as file:\n",
    "    print(list(file_content))\n",
    "    file_content = file.readlines()\n",
    "    print(\"Length of all lines are :\",len (list((file_content))))"
   ]
  },
  {
   "cell_type": "code",
   "execution_count": 209,
   "id": "1e5c3603-75ae-4127-adfe-f2222918988e",
   "metadata": {},
   "outputs": [
    {
     "name": "stdout",
     "output_type": "stream",
     "text": [
      "['My name is Darshan Junavane,\\n', 'My birthdate is 07/09/2003\\n', 'I love watching ipl & Movies\\n', 'I love playing GTA V on my laptop\\n', '\\n']\n",
      "29\n",
      "27\n",
      "29\n",
      "34\n",
      "1\n"
     ]
    }
   ],
   "source": [
    "file_path =\"myfile.txt\"\n",
    "my_file = open(file_path,'r')\n",
    "my_file\n",
    "my_file.close()\n",
    "with open (file_path,'r') as file:\n",
    "    print(file_content)\n",
    "for i in file_content:\n",
    "    print(len(i))\n",
    " "
   ]
  },
  {
   "cell_type": "code",
   "execution_count": 225,
   "id": "46ea0000-ad79-47e2-b6c3-a114e3b6911c",
   "metadata": {},
   "outputs": [
    {
     "name": "stdout",
     "output_type": "stream",
     "text": [
      "<_io.TextIOWrapper name='new_file.txt' mode='a' encoding='cp1252'>\n"
     ]
    }
   ],
   "source": [
    "with open('new_file.txt','a') as writing:\n",
    "    file = writing\n",
    "    writing.write('Today is Tuesday.\\n')\n",
    "    writing.write('We are having Holiday tomorrow\\n')\n",
    "    writing.write('Today is 18th of feb\\n')\n",
    "    writing.write('Arpit is a good boy')\n",
    "    print(file)\n"
   ]
  }
 ],
 "metadata": {
  "kernelspec": {
   "display_name": "Python [conda env:base] *",
   "language": "python",
   "name": "conda-base-py"
  },
  "language_info": {
   "codemirror_mode": {
    "name": "ipython",
    "version": 3
   },
   "file_extension": ".py",
   "mimetype": "text/x-python",
   "name": "python",
   "nbconvert_exporter": "python",
   "pygments_lexer": "ipython3",
   "version": "3.12.7"
  }
 },
 "nbformat": 4,
 "nbformat_minor": 5
}
