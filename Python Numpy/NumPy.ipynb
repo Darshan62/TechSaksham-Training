{
 "cells": [
  {
   "cell_type": "code",
   "execution_count": 1,
   "id": "59607144-00b5-4dac-b9d1-3e8bd56e3d9d",
   "metadata": {},
   "outputs": [
    {
     "name": "stdout",
     "output_type": "stream",
     "text": [
      "Requirement already satisfied: numpy in c:\\users\\darsh\\anaconda3\\lib\\site-packages (1.26.4)\n",
      "Note: you may need to restart the kernel to use updated packages.\n"
     ]
    }
   ],
   "source": [
    "pip install numpy"
   ]
  },
  {
   "cell_type": "code",
   "execution_count": 11,
   "id": "5fcedf1d-09c1-4da1-b23b-8574411bb26f",
   "metadata": {},
   "outputs": [],
   "source": [
    "import numpy as np "
   ]
  },
  {
   "cell_type": "code",
   "execution_count": 5,
   "id": "665c7007-7881-498e-b7d6-0c5e70f0879d",
   "metadata": {},
   "outputs": [
    {
     "data": {
      "text/plain": [
       "'1.26.4'"
      ]
     },
     "execution_count": 5,
     "metadata": {},
     "output_type": "execute_result"
    }
   ],
   "source": [
    "np.__version__"
   ]
  },
  {
   "cell_type": "code",
   "execution_count": 7,
   "id": "90f8e117-da99-40bf-b32f-c44832e3968d",
   "metadata": {},
   "outputs": [
    {
     "data": {
      "text/plain": [
       "2"
      ]
     },
     "execution_count": 7,
     "metadata": {},
     "output_type": "execute_result"
    }
   ],
   "source": [
    "np.add(1,1)"
   ]
  },
  {
   "cell_type": "code",
   "execution_count": 9,
   "id": "520905e0-15bd-44fb-a199-0dfc6fd9c69e",
   "metadata": {},
   "outputs": [],
   "source": [
    "a=np.array([1,3,5])"
   ]
  },
  {
   "cell_type": "code",
   "execution_count": 11,
   "id": "dc9df578-29f1-4d9a-9db7-4b691d57826c",
   "metadata": {},
   "outputs": [
    {
     "data": {
      "text/plain": [
       "array([1, 3, 5])"
      ]
     },
     "execution_count": 11,
     "metadata": {},
     "output_type": "execute_result"
    }
   ],
   "source": [
    "a"
   ]
  },
  {
   "cell_type": "code",
   "execution_count": 13,
   "id": "db60fd47-859b-443a-acb2-76ba4dd780b3",
   "metadata": {},
   "outputs": [
    {
     "data": {
      "text/plain": [
       "1"
      ]
     },
     "execution_count": 13,
     "metadata": {},
     "output_type": "execute_result"
    }
   ],
   "source": [
    "a.ndim"
   ]
  },
  {
   "cell_type": "code",
   "execution_count": 15,
   "id": "dd11bea0-ec77-41a1-a4ca-3a744a9d2f70",
   "metadata": {},
   "outputs": [
    {
     "data": {
      "text/plain": [
       "(3,)"
      ]
     },
     "execution_count": 15,
     "metadata": {},
     "output_type": "execute_result"
    }
   ],
   "source": [
    "a.shape"
   ]
  },
  {
   "cell_type": "code",
   "execution_count": 25,
   "id": "93c8ab37-160d-4834-9a34-c1465d5f95f0",
   "metadata": {},
   "outputs": [],
   "source": [
    "b=np.array([[1,3,5],[4,6,7]])"
   ]
  },
  {
   "cell_type": "code",
   "execution_count": 27,
   "id": "4363827a-cedd-42ea-98f2-77393d8e91a4",
   "metadata": {},
   "outputs": [
    {
     "data": {
      "text/plain": [
       "array([[1, 3, 5],\n",
       "       [4, 6, 7]])"
      ]
     },
     "execution_count": 27,
     "metadata": {},
     "output_type": "execute_result"
    }
   ],
   "source": [
    "b"
   ]
  },
  {
   "cell_type": "code",
   "execution_count": 29,
   "id": "6e1412e1-3d7b-412c-ae2b-99142eeabe10",
   "metadata": {},
   "outputs": [
    {
     "data": {
      "text/plain": [
       "2"
      ]
     },
     "execution_count": 29,
     "metadata": {},
     "output_type": "execute_result"
    }
   ],
   "source": [
    "b.ndim"
   ]
  },
  {
   "cell_type": "code",
   "execution_count": 31,
   "id": "dcebb120-89f1-4909-b60c-44892d8566bc",
   "metadata": {},
   "outputs": [
    {
     "data": {
      "text/plain": [
       "(2, 3)"
      ]
     },
     "execution_count": 31,
     "metadata": {},
     "output_type": "execute_result"
    }
   ],
   "source": [
    "b.shape"
   ]
  },
  {
   "cell_type": "code",
   "execution_count": 33,
   "id": "18f6673f-d89c-4fcf-ae11-0e310a70505a",
   "metadata": {},
   "outputs": [],
   "source": [
    "c=np.array([[[1,2,3],[4,5,6,],[7,8,9]]])"
   ]
  },
  {
   "cell_type": "code",
   "execution_count": 35,
   "id": "19aca03c-afad-4dbb-8aef-95d23b9ec55e",
   "metadata": {},
   "outputs": [
    {
     "data": {
      "text/plain": [
       "3"
      ]
     },
     "execution_count": 35,
     "metadata": {},
     "output_type": "execute_result"
    }
   ],
   "source": [
    "c.ndim"
   ]
  },
  {
   "cell_type": "code",
   "execution_count": 37,
   "id": "d7640547-e3ca-47e6-a931-687159220901",
   "metadata": {},
   "outputs": [
    {
     "data": {
      "text/plain": [
       "(1, 3, 3)"
      ]
     },
     "execution_count": 37,
     "metadata": {},
     "output_type": "execute_result"
    }
   ],
   "source": [
    "c.shape"
   ]
  },
  {
   "cell_type": "code",
   "execution_count": 39,
   "id": "f37b5481-5a2c-4a2c-bfd0-cf698e85d11f",
   "metadata": {},
   "outputs": [
    {
     "data": {
      "text/plain": [
       "array([[[1, 2, 3],\n",
       "        [4, 5, 6],\n",
       "        [7, 8, 9]]])"
      ]
     },
     "execution_count": 39,
     "metadata": {},
     "output_type": "execute_result"
    }
   ],
   "source": [
    "c"
   ]
  },
  {
   "cell_type": "code",
   "execution_count": 57,
   "id": "11bc29a9-1dba-4123-a3de-41461a805ee0",
   "metadata": {},
   "outputs": [],
   "source": [
    "d=np.array([[[[[1,2,3],[4,5,6]]]]])"
   ]
  },
  {
   "cell_type": "code",
   "execution_count": 59,
   "id": "8afb5425-4121-4b7b-b8e2-16cc543be644",
   "metadata": {},
   "outputs": [
    {
     "data": {
      "text/plain": [
       "array([[[[[1, 2, 3],\n",
       "          [4, 5, 6]]]]])"
      ]
     },
     "execution_count": 59,
     "metadata": {},
     "output_type": "execute_result"
    }
   ],
   "source": [
    "d"
   ]
  },
  {
   "cell_type": "code",
   "execution_count": 61,
   "id": "e4038e37-1994-4ce6-a4d1-caa2783bb23a",
   "metadata": {},
   "outputs": [
    {
     "data": {
      "text/plain": [
       "(1, 1, 1, 2, 3)"
      ]
     },
     "execution_count": 61,
     "metadata": {},
     "output_type": "execute_result"
    }
   ],
   "source": [
    "d.shape"
   ]
  },
  {
   "cell_type": "code",
   "execution_count": 55,
   "id": "2a73a2b5-419b-49af-bcd5-913c21db48e7",
   "metadata": {},
   "outputs": [
    {
     "data": {
      "text/plain": [
       "4"
      ]
     },
     "execution_count": 55,
     "metadata": {},
     "output_type": "execute_result"
    }
   ],
   "source": [
    "d.ndim"
   ]
  },
  {
   "cell_type": "code",
   "execution_count": 102,
   "id": "98282211-9d07-4add-9081-b4525dc67097",
   "metadata": {},
   "outputs": [],
   "source": [
    "a1=np.array([[1,2,3,9,5],[6,7,8,9,10]])"
   ]
  },
  {
   "cell_type": "code",
   "execution_count": 104,
   "id": "0e8c0660-3fa9-4cad-803c-3317300e619f",
   "metadata": {},
   "outputs": [
    {
     "data": {
      "text/plain": [
       "array([[ 1,  2,  3,  9,  5],\n",
       "       [ 6,  7,  8,  9, 10]])"
      ]
     },
     "execution_count": 104,
     "metadata": {},
     "output_type": "execute_result"
    }
   ],
   "source": [
    "a1"
   ]
  },
  {
   "cell_type": "code",
   "execution_count": 106,
   "id": "2f833d40-15a3-4ebc-8c2c-927b9db4e86b",
   "metadata": {},
   "outputs": [
    {
     "data": {
      "text/plain": [
       "7"
      ]
     },
     "execution_count": 106,
     "metadata": {},
     "output_type": "execute_result"
    }
   ],
   "source": [
    "a1[1,1]"
   ]
  },
  {
   "cell_type": "code",
   "execution_count": 110,
   "id": "2cd46053-96aa-43bd-8b98-9af9ac9e83a8",
   "metadata": {},
   "outputs": [
    {
     "data": {
      "text/plain": [
       "9"
      ]
     },
     "execution_count": 110,
     "metadata": {},
     "output_type": "execute_result"
    }
   ],
   "source": [
    "a1[0,3]"
   ]
  },
  {
   "cell_type": "code",
   "execution_count": 128,
   "id": "4d020d1d-5e72-4b71-af6b-893531aaf554",
   "metadata": {},
   "outputs": [],
   "source": [
    "a2=np.array([[[1,3,5,9,7],[2,4,5,3,6],[3,9,1,3,5]]])"
   ]
  },
  {
   "cell_type": "code",
   "execution_count": 130,
   "id": "0e4a823e-e0bc-4515-94e7-dce328e27121",
   "metadata": {},
   "outputs": [
    {
     "data": {
      "text/plain": [
       "9"
      ]
     },
     "execution_count": 130,
     "metadata": {},
     "output_type": "execute_result"
    }
   ],
   "source": [
    "a2[0,2,1]"
   ]
  },
  {
   "cell_type": "code",
   "execution_count": 134,
   "id": "4fefbbe2-47b2-4bcd-be47-f9a951e7912d",
   "metadata": {},
   "outputs": [],
   "source": [
    "a3=np.array([[[1,3,5],[4,6,7]],[[0,6,8],[8,9,5]]])"
   ]
  },
  {
   "cell_type": "code",
   "execution_count": 138,
   "id": "3ae871f5-21f7-4aad-bb44-c16b51d0f439",
   "metadata": {},
   "outputs": [
    {
     "data": {
      "text/plain": [
       "array([[[1, 3, 5],\n",
       "        [4, 6, 7]],\n",
       "\n",
       "       [[0, 6, 8],\n",
       "        [8, 9, 5]]])"
      ]
     },
     "execution_count": 138,
     "metadata": {},
     "output_type": "execute_result"
    }
   ],
   "source": [
    "a3"
   ]
  },
  {
   "cell_type": "code",
   "execution_count": 140,
   "id": "34c8d255-b005-44a5-bac6-ddeaee89956a",
   "metadata": {},
   "outputs": [
    {
     "data": {
      "text/plain": [
       "7"
      ]
     },
     "execution_count": 140,
     "metadata": {},
     "output_type": "execute_result"
    }
   ],
   "source": [
    "a3[0,1,2]"
   ]
  },
  {
   "cell_type": "code",
   "execution_count": 142,
   "id": "eb387e01-8785-4fd0-9079-3d3f6fdaf173",
   "metadata": {},
   "outputs": [
    {
     "data": {
      "text/plain": [
       "6"
      ]
     },
     "execution_count": 142,
     "metadata": {},
     "output_type": "execute_result"
    }
   ],
   "source": [
    "a3[1,0,1]"
   ]
  },
  {
   "cell_type": "code",
   "execution_count": 144,
   "id": "ae2db2f2-b943-4990-a887-08fcb4232442",
   "metadata": {},
   "outputs": [],
   "source": [
    "a4=np.array([[[1,3,5],[4,6,7]],[[0,6,8],[8,9,5]]])"
   ]
  },
  {
   "cell_type": "code",
   "execution_count": 146,
   "id": "43c76828-6567-4dac-b702-5ee478d5ccd7",
   "metadata": {},
   "outputs": [
    {
     "data": {
      "text/plain": [
       "0"
      ]
     },
     "execution_count": 146,
     "metadata": {},
     "output_type": "execute_result"
    }
   ],
   "source": [
    "a3[1,0,0]"
   ]
  },
  {
   "cell_type": "code",
   "execution_count": 148,
   "id": "c5cdb1db-2732-49af-afcd-7b954c9c0b0d",
   "metadata": {},
   "outputs": [],
   "source": [
    "a4=np.array([1,2,3,4,5])"
   ]
  },
  {
   "cell_type": "code",
   "execution_count": 150,
   "id": "bf3a0558-7440-4771-89d4-2c97f68f2e93",
   "metadata": {},
   "outputs": [
    {
     "data": {
      "text/plain": [
       "array([3, 4, 5])"
      ]
     },
     "execution_count": 150,
     "metadata": {},
     "output_type": "execute_result"
    }
   ],
   "source": [
    "a4[2::]"
   ]
  },
  {
   "cell_type": "code",
   "execution_count": 152,
   "id": "27d0ea61-3a8f-4101-9a44-e158115a5cbf",
   "metadata": {},
   "outputs": [
    {
     "data": {
      "text/plain": [
       "array([5, 4, 3, 2, 1])"
      ]
     },
     "execution_count": 152,
     "metadata": {},
     "output_type": "execute_result"
    }
   ],
   "source": [
    "a4[::-1]"
   ]
  },
  {
   "cell_type": "code",
   "execution_count": 13,
   "id": "7cbd196c-e215-43ba-a75e-2723694ff1b7",
   "metadata": {},
   "outputs": [],
   "source": [
    "aa=np.array([1,2,3,4,5,6,7,8,9,10])"
   ]
  },
  {
   "cell_type": "code",
   "execution_count": 184,
   "id": "28e23d3a-1f21-4ecd-b692-03aa0debd6d9",
   "metadata": {},
   "outputs": [
    {
     "data": {
      "text/plain": [
       "array([ 1,  4,  7, 10])"
      ]
     },
     "execution_count": 184,
     "metadata": {},
     "output_type": "execute_result"
    }
   ],
   "source": [
    "a5[::3]"
   ]
  },
  {
   "cell_type": "code",
   "execution_count": 192,
   "id": "a7b97cc2-444e-4849-91f6-7dfadba3721c",
   "metadata": {},
   "outputs": [
    {
     "data": {
      "text/plain": [
       "array([1, 3])"
      ]
     },
     "execution_count": 192,
     "metadata": {},
     "output_type": "execute_result"
    }
   ],
   "source": [
    "a5[:3:2]"
   ]
  },
  {
   "cell_type": "code",
   "execution_count": 194,
   "id": "7d01cd42-3068-4bc5-a12b-34f1257b12e7",
   "metadata": {},
   "outputs": [
    {
     "name": "stdout",
     "output_type": "stream",
     "text": [
      "<class 'numpy.ndarray'>\n"
     ]
    }
   ],
   "source": [
    "print(type(a5))"
   ]
  },
  {
   "cell_type": "code",
   "execution_count": 196,
   "id": "97c99b46-f039-4de8-a66a-59039e054cec",
   "metadata": {},
   "outputs": [
    {
     "name": "stdout",
     "output_type": "stream",
     "text": [
      "int32\n"
     ]
    }
   ],
   "source": [
    "print(a5.dtype)"
   ]
  },
  {
   "cell_type": "code",
   "execution_count": 15,
   "id": "00026cac-c965-4bfc-9768-b077e9edff1e",
   "metadata": {},
   "outputs": [
    {
     "data": {
      "text/plain": [
       "array([ 1.,  2.,  3.,  4.,  5.,  6.,  7.,  8.,  9., 10.])"
      ]
     },
     "execution_count": 15,
     "metadata": {},
     "output_type": "execute_result"
    }
   ],
   "source": [
    "ab= aa.astype(float)\n",
    "ab"
   ]
  },
  {
   "cell_type": "code",
   "execution_count": 17,
   "id": "af1bf73c-dbb5-45a8-9ffd-ece7abe294f0",
   "metadata": {},
   "outputs": [
    {
     "data": {
      "text/plain": [
       "array(['ak', 'dj', 'sn'], dtype='<U2')"
      ]
     },
     "execution_count": 17,
     "metadata": {},
     "output_type": "execute_result"
    }
   ],
   "source": [
    "ba=np.array([\"ak\",\"dj\",\"sn\"])\n",
    "ba"
   ]
  },
  {
   "cell_type": "code",
   "execution_count": 19,
   "id": "01972332-d396-4663-a078-bbe50ee83eb6",
   "metadata": {},
   "outputs": [
    {
     "name": "stdout",
     "output_type": "stream",
     "text": [
      "<U2\n"
     ]
    }
   ],
   "source": [
    "print(ba.dtype)"
   ]
  },
  {
   "cell_type": "code",
   "execution_count": 29,
   "id": "9e562b90-5884-4d9a-86d3-69ce0cd9ca49",
   "metadata": {},
   "outputs": [
    {
     "data": {
      "text/plain": [
       "array([ 1,  2,  3,  4,  5,  6,  7,  8,  9, 10, 11, 12])"
      ]
     },
     "execution_count": 29,
     "metadata": {},
     "output_type": "execute_result"
    }
   ],
   "source": [
    "a6=np.array([1,2,3,4,5,6,7,8,9,10,11,12])\n",
    "a6"
   ]
  },
  {
   "cell_type": "code",
   "execution_count": 35,
   "id": "98da12b8-4dc4-4022-9b68-3480b738432c",
   "metadata": {},
   "outputs": [],
   "source": [
    "a7=a6.reshape(4,3)"
   ]
  },
  {
   "cell_type": "code",
   "execution_count": 37,
   "id": "4be37e7e-cdc8-4d5e-b2be-692a266ac05d",
   "metadata": {},
   "outputs": [
    {
     "data": {
      "text/plain": [
       "array([[ 1,  2,  3],\n",
       "       [ 4,  5,  6],\n",
       "       [ 7,  8,  9],\n",
       "       [10, 11, 12]])"
      ]
     },
     "execution_count": 37,
     "metadata": {},
     "output_type": "execute_result"
    }
   ],
   "source": [
    "a7"
   ]
  },
  {
   "cell_type": "code",
   "execution_count": null,
   "id": "d6ad9f8c-144d-4999-b3a5-121143a1127d",
   "metadata": {},
   "outputs": [],
   "source": [
    "#Flatning"
   ]
  },
  {
   "cell_type": "code",
   "execution_count": 39,
   "id": "a30a7428-3a97-4c6e-a9a1-07e352abb2a1",
   "metadata": {},
   "outputs": [],
   "source": [
    "a_one=np.array([[1,2,3,4,5],[6,7,8,9,10]])"
   ]
  },
  {
   "cell_type": "code",
   "execution_count": 41,
   "id": "fb6d3777-9216-46cf-bde9-b3d7670de9bc",
   "metadata": {},
   "outputs": [
    {
     "data": {
      "text/plain": [
       "array([[ 1,  2,  3,  4,  5],\n",
       "       [ 6,  7,  8,  9, 10]])"
      ]
     },
     "execution_count": 41,
     "metadata": {},
     "output_type": "execute_result"
    }
   ],
   "source": [
    "a_one"
   ]
  },
  {
   "cell_type": "code",
   "execution_count": 45,
   "id": "c9b4cf94-e0a5-4698-bc37-c5785c9305a1",
   "metadata": {},
   "outputs": [
    {
     "name": "stdout",
     "output_type": "stream",
     "text": [
      "[ 1  2  3  4  5  6  7  8  9 10]\n"
     ]
    }
   ],
   "source": [
    "a_new=a_one.reshape(-1)\n",
    "print(a_new)"
   ]
  },
  {
   "cell_type": "code",
   "execution_count": 53,
   "id": "7ef72029-ec94-4f2c-8ef7-78152c42a72d",
   "metadata": {},
   "outputs": [
    {
     "name": "stdout",
     "output_type": "stream",
     "text": [
      "1\n",
      "2\n",
      "3\n",
      "4\n",
      "5\n",
      "6\n",
      "7\n",
      "8\n",
      "9\n",
      "10\n"
     ]
    }
   ],
   "source": [
    "a_two=np.array([1,2,3,4,5,6,7,8,9,10])\n",
    "for i in a_two:\n",
    "    print(i)"
   ]
  },
  {
   "cell_type": "code",
   "execution_count": 61,
   "id": "69bf02ef-06b2-4844-a90a-816b1215658b",
   "metadata": {},
   "outputs": [
    {
     "name": "stdout",
     "output_type": "stream",
     "text": [
      "1\n",
      "2\n",
      "3\n",
      "4\n",
      "5\n",
      "6\n"
     ]
    }
   ],
   "source": [
    "a_three=np.array([[1,2,3],[4,5,6]])\n",
    "for d in a_three:\n",
    "    for j in d:\n",
    "        print(j)"
   ]
  },
  {
   "cell_type": "code",
   "execution_count": 67,
   "id": "38f72a80-e562-4704-9d99-59b2dd54d769",
   "metadata": {},
   "outputs": [
    {
     "name": "stdout",
     "output_type": "stream",
     "text": [
      "1\n",
      "2\n",
      "3\n",
      "4\n",
      "5\n",
      "6\n",
      "7\n",
      "8\n",
      "9\n"
     ]
    }
   ],
   "source": [
    "a_four=np.array([[[1,2,3],[4,5,6],[7,8,9]]])\n",
    "for i in a_four:\n",
    "    for j in i:\n",
    "        for l in j:\n",
    "            print(l)"
   ]
  },
  {
   "cell_type": "code",
   "execution_count": 71,
   "id": "17b44e09-27b6-4532-86b5-1543ff759731",
   "metadata": {},
   "outputs": [
    {
     "data": {
      "text/plain": [
       "array([[0., 0.],\n",
       "       [0., 0.]])"
      ]
     },
     "execution_count": 71,
     "metadata": {},
     "output_type": "execute_result"
    }
   ],
   "source": [
    "a_five=np.zeros((2,2))\n",
    "a_five"
   ]
  },
  {
   "cell_type": "code",
   "execution_count": 75,
   "id": "99a31abf-4bac-4e43-8f52-3f835d2082c2",
   "metadata": {},
   "outputs": [
    {
     "data": {
      "text/plain": [
       "array([[1., 1.],\n",
       "       [1., 1.]])"
      ]
     },
     "execution_count": 75,
     "metadata": {},
     "output_type": "execute_result"
    }
   ],
   "source": [
    "a_six=np.ones((2,2))\n",
    "a_six"
   ]
  },
  {
   "cell_type": "code",
   "execution_count": 85,
   "id": "a0251cfa-dfee-46dc-9d27-4259c3742c38",
   "metadata": {},
   "outputs": [
    {
     "data": {
      "text/plain": [
       "array([[60, 94, 55, 27, 76, 81, 40,  2],\n",
       "       [67, 60, 11, 57, 55, 80, 17, 41],\n",
       "       [45, 78, 29, 53, 25, 60, 96, 57],\n",
       "       [30, 19, 24, 17, 60,  4, 60, 98],\n",
       "       [ 4, 93, 56, 20, 46, 61, 15, 21],\n",
       "       [51, 73, 32,  6, 42, 98, 41, 55]])"
      ]
     },
     "execution_count": 85,
     "metadata": {},
     "output_type": "execute_result"
    }
   ],
   "source": [
    "from numpy import random\n",
    "x=random.randint(100,size=(6,8))\n",
    "x"
   ]
  },
  {
   "cell_type": "code",
   "execution_count": 91,
   "id": "6cca42f1-f30f-4dfd-a1b7-0eb7a4885bd9",
   "metadata": {},
   "outputs": [
    {
     "data": {
      "text/plain": [
       "array([[9, 3, 3, 6],\n",
       "       [4, 6, 9, 5],\n",
       "       [9, 5, 5, 9]])"
      ]
     },
     "execution_count": 91,
     "metadata": {},
     "output_type": "execute_result"
    }
   ],
   "source": [
    "y=random.choice([5,6,3,4,9],size=(3,4))\n",
    "y"
   ]
  },
  {
   "cell_type": "code",
   "execution_count": 95,
   "id": "1f547fb4-f10a-489a-85f3-4f218c085c34",
   "metadata": {},
   "outputs": [
    {
     "data": {
      "text/plain": [
       "array([[4, 5, 1, 2, 1],\n",
       "       [2, 3, 4, 1, 2]])"
      ]
     },
     "execution_count": 95,
     "metadata": {},
     "output_type": "execute_result"
    }
   ],
   "source": [
    "y=random.choice([1,2,3,4,5],size=(2,5))\n",
    "y"
   ]
  },
  {
   "cell_type": "code",
   "execution_count": 97,
   "id": "a090d2c5-20ad-4e92-870e-d08afb6be5d9",
   "metadata": {},
   "outputs": [
    {
     "data": {
      "text/plain": [
       "array([[[1, 1, 1],\n",
       "        [1, 1, 1],\n",
       "        [1, 1, 1]]])"
      ]
     },
     "execution_count": 97,
     "metadata": {},
     "output_type": "execute_result"
    }
   ],
   "source": [
    "s=np.array([[[1,1,1],[1,1,1],[1,1,1]]])\n",
    "s"
   ]
  },
  {
   "cell_type": "code",
   "execution_count": 115,
   "id": "b8ed412d-b567-4374-972d-cd2e99702230",
   "metadata": {},
   "outputs": [
    {
     "data": {
      "text/plain": [
       "array([[[1, 1, 1],\n",
       "        [1, 1, 1],\n",
       "        [1, 1, 1]]])"
      ]
     },
     "execution_count": 115,
     "metadata": {},
     "output_type": "execute_result"
    }
   ],
   "source": [
    "s=random.choice([1],size=(1,3,3))\n",
    "s"
   ]
  },
  {
   "cell_type": "code",
   "execution_count": 135,
   "id": "bc2cf26d-c82d-451b-b96d-a4581e8dd888",
   "metadata": {},
   "outputs": [
    {
     "name": "stdout",
     "output_type": "stream",
     "text": [
      "[1 3 3]\n"
     ]
    }
   ],
   "source": [
    "s=np.array([[1,2,3],[2,3,4]])\n",
    "b=s.reshape(-1)\n",
    "print(b[::2])"
   ]
  },
  {
   "cell_type": "code",
   "execution_count": null,
   "id": "fa1ed376-5512-4839-94e3-d99bf1081c0f",
   "metadata": {},
   "outputs": [],
   "source": [
    "#Write a numpy program to swap rows and columns of a given array in reverse order\n"
   ]
  },
  {
   "cell_type": "code",
   "execution_count": 1,
   "id": "c415b0f3-50c8-4032-a78c-8edd79edefa6",
   "metadata": {},
   "outputs": [],
   "source": [
    "import pandas as pd\n"
   ]
  },
  {
   "cell_type": "code",
   "execution_count": null,
   "id": "f64cc23a-fd96-4410-81ef-62410723f6c4",
   "metadata": {},
   "outputs": [],
   "source": []
  }
 ],
 "metadata": {
  "kernelspec": {
   "display_name": "Python [conda env:base] *",
   "language": "python",
   "name": "conda-base-py"
  },
  "language_info": {
   "codemirror_mode": {
    "name": "ipython",
    "version": 3
   },
   "file_extension": ".py",
   "mimetype": "text/x-python",
   "name": "python",
   "nbconvert_exporter": "python",
   "pygments_lexer": "ipython3",
   "version": "3.12.7"
  }
 },
 "nbformat": 4,
 "nbformat_minor": 5
}
